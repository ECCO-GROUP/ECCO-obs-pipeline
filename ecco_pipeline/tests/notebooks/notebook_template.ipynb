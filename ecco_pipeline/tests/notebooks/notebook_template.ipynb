{
 "cells": [
  {
   "cell_type": "code",
   "execution_count": null,
   "metadata": {},
   "outputs": [],
   "source": [
    "import xarray as xr\n",
    "from glob import glob\n",
    "from datetime import datetime\n",
    "import yaml\n",
    "import os\n",
    "\n",
    "import plotting\n",
    "\n",
    "try:\n",
    "    from ecco_pipeline.conf.global_settings import GRIDS, OUTPUT_DIR\n",
    "    from ecco_pipeline.utils.file_utils import get_date\n",
    "    import ecco_pipeline.transformations.transformation as Transformation\n",
    "except:\n",
    "    os.chdir(os.path.realpath(os.path.join(os.path.abspath(''), '../../..')))\n",
    "    from ecco_pipeline.conf.global_settings import GRIDS, OUTPUT_DIR\n",
    "    from ecco_pipeline.utils.file_utils import get_date\n",
    "    import ecco_pipeline.transformations.transformation as Transformation"
   ]
  },
  {
   "cell_type": "code",
   "execution_count": null,
   "metadata": {},
   "outputs": [],
   "source": [
    "ds_name = \"\"\n",
    "hemisphere = \"\"\n",
    "with open(f'conf/ds_configs/{ds_name}.yaml', 'r') as stream:\n",
    "    config = yaml.load(stream, yaml.Loader)"
   ]
  },
  {
   "attachments": {},
   "cell_type": "markdown",
   "metadata": {},
   "source": [
    "# Load sample granule"
   ]
  },
  {
   "cell_type": "code",
   "execution_count": null,
   "metadata": {},
   "outputs": [],
   "source": [
    "ds_granules_dir = f'{OUTPUT_DIR}/{ds_name}/harvested_granules/'\n",
    "ds_granules = glob(f'{ds_granules_dir}/**/*.nc*')\n",
    "if hemisphere:\n",
    "    ds_granules = [g for g in ds_granules if hemisphere in g]\n",
    "sample_granule_path = ds_granules[0]\n",
    "print(sample_granule_path)"
   ]
  },
  {
   "cell_type": "code",
   "execution_count": null,
   "metadata": {},
   "outputs": [],
   "source": [
    "filename_date_str = get_date(config['filename_date_regex'], sample_granule_path.split('/')[-1])\n",
    "granule_date = datetime.strptime(filename_date_str, config['filename_date_fmt']).strftime('%Y-%m-%dT%H:%M:%SZ')\n",
    "ds = xr.open_dataset(sample_granule_path)\n",
    "ds"
   ]
  },
  {
   "attachments": {},
   "cell_type": "markdown",
   "metadata": {},
   "source": [
    "# Load grid"
   ]
  },
  {
   "cell_type": "code",
   "execution_count": null,
   "metadata": {},
   "outputs": [],
   "source": [
    "grids = glob(f'grids/*.nc*')\n",
    "grids.sort()\n",
    "f'Available grids: {grids}'"
   ]
  },
  {
   "cell_type": "code",
   "execution_count": null,
   "metadata": {},
   "outputs": [],
   "source": [
    "grid_ds = xr.open_dataset(grids[1])\n",
    "grid_ds"
   ]
  },
  {
   "cell_type": "code",
   "execution_count": null,
   "metadata": {},
   "outputs": [],
   "source": [
    "T = Transformation.Transformation(config, sample_granule_path, granule_date)"
   ]
  },
  {
   "attachments": {},
   "cell_type": "markdown",
   "metadata": {},
   "source": [
    "# Make mapping factors"
   ]
  },
  {
   "cell_type": "code",
   "execution_count": null,
   "metadata": {},
   "outputs": [],
   "source": [
    "factors = T.make_factors(grid_ds)"
   ]
  },
  {
   "attachments": {},
   "cell_type": "markdown",
   "metadata": {},
   "source": [
    "# Transformation"
   ]
  },
  {
   "cell_type": "code",
   "execution_count": null,
   "metadata": {},
   "outputs": [],
   "source": [
    "field_ds_list = T.transform(grid_ds, factors, ds, config)"
   ]
  },
  {
   "cell_type": "code",
   "execution_count": null,
   "metadata": {},
   "outputs": [],
   "source": [
    "field_ds = field_ds_list[0][0]\n",
    "field_ds"
   ]
  },
  {
   "cell_type": "markdown",
   "metadata": {},
   "source": [
    "# Visualization"
   ]
  },
  {
   "cell_type": "code",
   "execution_count": null,
   "metadata": {},
   "outputs": [],
   "source": [
    "for field_ds in field_ds_list:\n",
    "    plotting.make_plot(field_ds[0][list(field_ds[0].data_vars)[0]])"
   ]
  }
 ],
 "metadata": {
  "kernelspec": {
   "display_name": "ecco_pipeline",
   "language": "python",
   "name": "python3"
  },
  "language_info": {
   "codemirror_mode": {
    "name": "ipython",
    "version": 3
   },
   "file_extension": ".py",
   "mimetype": "text/x-python",
   "name": "python",
   "nbconvert_exporter": "python",
   "pygments_lexer": "ipython3",
   "version": "3.7.7"
  },
  "orig_nbformat": 4
 },
 "nbformat": 4,
 "nbformat_minor": 2
}
